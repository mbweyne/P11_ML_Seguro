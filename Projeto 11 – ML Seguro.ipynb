
{
 "cells": [
  {
   "cell_type": "markdown",
   "metadata": {},
   "source": [
    "# 📘 Projeto 11: Regressão com Ofuscação de Dados\n",
    "---"
   ]
  },
  {
   "cell_type": "markdown",
   "metadata": {},
   "source": [
    "## 📌 1. Preparação dos Dados"
   ]
  },
  {
   "cell_type": "code",
   "execution_count": null,
   "metadata": {},
   "outputs": [],
   "source": [
    "import pandas as pd\n",
    "from sklearn.model_selection import train_test_split\n",
    "from sklearn.linear_model import LinearRegression\n",
    "from sklearn.metrics import mean_squared_error, r2_score\n",
    "from sklearn.impute import SimpleImputer\n",
    "import numpy as np\n",
    "import matplotlib.pyplot as plt\n",
    "import seaborn as sns\n",
    "\n",
    "# Carregar os dados\n",
    "url = '/mnt/data/insurance_us.csv'\n",
    "df = pd.read_csv(url)\n",
    "\n",
    "# Selecionar colunas relevantes (recursos explicativos e variável alvo)\n",
    "features = ['gender', 'age', 'income', 'family_members']\n",
    "target = 'insurance_benefits'\n",
    "\n",
    "X = df[features]\n",
    "y = df[target]\n",
    "\n",
    "# Lidar com valores ausentes usando média\n",
    "imputer = SimpleImputer(strategy='mean')\n",
    "X = pd.DataFrame(imputer.fit_transform(X), columns=features)\n",
    "\n",
    "# Divisão em treino e teste (75% treino, 25% teste)\n",
    "X_train, X_test, y_train, y_test = train_test_split(X, y, test_size=0.25, random_state=42)"
   ]
  },
  {
   "cell_type": "markdown",
   "metadata": {},
   "source": [
    "## 🔍 2. Modelo de Regressão Original"
   ]
  },
  {
   "cell_type": "code",
   "execution_count": null,
   "metadata": {},
   "outputs": [],
   "source": [
    "# Treinar modelo de regressão linear com dados originais\n",
    "model = LinearRegression()\n",
    "model.fit(X_train, y_train)\n",
    "y_pred = model.predict(X_test)\n",
    "\n",
    "# Avaliação de desempenho com RMSE e R²\n",
    "rmse_original = mean_squared_error(y_test, y_pred, squared=False)\n",
    "r2_original = r2_score(y_test, y_pred)\n",
    "\n",
    "print("RMSE (Original):", rmse_original)\n",
    "print("R² (Original):", r2_original)"
   ]
  },
  {
   "cell_type": "markdown",
   "metadata": {},
   "source": [
    "## 🔒 3. Ofuscação de Dados"
   ]
  },
  {
   "cell_type": "code",
   "execution_count": null,
   "metadata": {},
   "outputs": [],
   "source": [
    "# Função para embaralhar colunas (simulando ofuscação de dados)\n",
    "def shuffle_features(X, seed=42):\n",
    "    np.random.seed(seed)\n",
    "    X_shuffled = X.copy()\n",
    "    for column in X.columns:\n",
    "        X_shuffled[column] = np.random.permutation(X[column].values)\n",
    "    return X_shuffled\n",
    "\n",
    "# Aplicar ofuscação\n",
    "X_shuffled = shuffle_features(X)\n",
    "\n",
    "# Lidar com valores ausentes novamente após ofuscação\n",
    "X_shuffled = pd.DataFrame(imputer.transform(X_shuffled), columns=features)\n",
    "\n",
    "# Divisão igual à anterior\n",
    "X_train_shuf, X_test_shuf, _, _ = train_test_split(X_shuffled, y, test_size=0.25, random_state=42)\n",
    "\n",
    "# Re-treinar modelo com dados ofuscados\n",
    "model_shuf = LinearRegression()\n",
    "model_shuf.fit(X_train_shuf, y_train)\n",
    "y_pred_shuf = model_shuf.predict(X_test_shuf)\n",
    "\n",
    "# Avaliação\n",
    "rmse_shuf = mean_squared_error(y_test, y_pred_shuf, squared=False)\n",
    "r2_shuf = r2_score(y_test, y_pred_shuf)\n",
    "\n",
    "print("RMSE (Ofuscado):", rmse_shuf)\n",
    "print("R² (Ofuscado):", r2_shuf)"
   ]
  },
  {
   "cell_type": "markdown",
   "metadata": {},
   "source": [
    "## 📊 4. Visualizações"
   ]
  },
  {
   "cell_type": "code",
   "execution_count": null,
   "metadata": {},
   "outputs": [],
   "source": [
    "# Comparação de desempenho entre modelo original e ofuscado\n",
    "resultados = pd.DataFrame({\n",
    "    'RMSE': [rmse_original, rmse_shuf],\n",
    "    'R²': [r2_original, r2_shuf]\n",
    "}, index=['Original', 'Ofuscado'])\n",
    "\n",
    "resultados.plot(kind='bar', title='Desempenho: Original vs Ofuscado')\n",
    "plt.ylabel('Pontuação')\n",
    "plt.grid(True)\n",
    "plt.xticks(rotation=0)\n",
    "plt.show()\n",
    "\n",
    "# Distribuição dos resíduos do modelo original\n",
    "residuos = y_test - y_pred\n",
    "sns.histplot(residuos, kde=True)\n",
    "plt.title("Distribuição dos Resíduos")\n",
    "plt.xlabel("Erro")\n",
    "plt.grid(True)\n",
    "plt.show()\n",
    "\n",
    "# Dispersão entre valores reais e preditos\n",
    "plt.scatter(y_test, y_pred, alpha=0.6)\n",
    "plt.xlabel("Reais")\n",
    "plt.ylabel("Preditos")\n",
    "plt.title("Reais vs Preditos")\n",
    "plt.plot([y_test.min(), y_test.max()], [y_test.min(), y_test.max()], 'r--')\n",
    "plt.grid(True)\n",
    "plt.show()"
   ]
  },
  {
   "cell_type": "markdown",
   "metadata": {},
   "source": [
    "## 📈 5. Correlação entre Variáveis"
   ]
  },
  {
   "cell_type": "code",
   "execution_count": null,
   "metadata": {},
   "outputs": [],
   "source": [
    "# Análise da correlação entre variáveis numéricas\n",
    "print("Correlação entre Variáveis:")\n",
    "print(df.corr(numeric_only=True))"
   ]
  }
 ],
 "metadata": {
  "kernelspec": {
   "display_name": "Python 3",
   "language": "python",
   "name": "python3"
  },
  "language_info": {
   "name": "python",
   "version": "3.11"
  }
 },
 "nbformat": 4,
 "nbformat_minor": 2
}
